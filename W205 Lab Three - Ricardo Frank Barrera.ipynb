{
 "cells": [
  {
   "cell_type": "markdown",
   "metadata": {},
   "source": [
    "Q1: Where is the data for managed tables stored?\n",
    "\n",
    "It is stored locally on the AMI instance under\n",
    "\n",
    "/user/hive/warehouse\n",
    "\n",
    "Q2: Will the data for an external table drop if the table is dropped?\n",
    "\n",
    "No\n",
    "\n",
    "Q3: What is the difference between a RC and an ORC file format?\n",
    "\n",
    "The ORC format is more compact and performs better during processing, but requires more cpu due to the compression format\n",
    "\n",
    "Q4: In which case, would I use Parquet?\n",
    "\n",
    "Parquet wins over ORC when storage is less important than computational speed.\n",
    "\n",
    "Q5: What compression types are allowed while using Parquet?\n",
    "\n",
    "Snappy, gzip"
   ]
  }
 ],
 "metadata": {
  "kernelspec": {
   "display_name": "Python 2",
   "language": "python",
   "name": "python2"
  },
  "language_info": {
   "codemirror_mode": {
    "name": "ipython",
    "version": 2
   },
   "file_extension": ".py",
   "mimetype": "text/x-python",
   "name": "python",
   "nbconvert_exporter": "python",
   "pygments_lexer": "ipython2",
   "version": "2.7.10"
  }
 },
 "nbformat": 4,
 "nbformat_minor": 0
}
