{
 "cells": [
  {
   "cell_type": "markdown",
   "metadata": {},
   "source": [
    "Ricardo Frank Barrera's first iPython Notebook.\n",
    "\n",
    "The lab questions are:\n",
    "\n",
    "Q1: What is an AMI?\n",
    "\n",
    "    AMI stands for Amazon Machine Image, and is a saved representation of your system that can be used to launch service instances in Amazon's cloud (e.g. EC2) with pre-defined configuration (e.g. software, patches, OS, etc).  This is particularly useful for software development and services because it provides and easy-to-access snapshot of a working state to ensure your service has the same stuff running everywhere, or can rollback to a working configuration quickly should a new patch or configuration break your software.  \n",
    "\n",
    "Q2: When would you consider a cloud infrastructure?\n",
    "\n",
    "    A cloud infrastructure is viable option for many situations, and is fantastic because it offloads the data center management complexity and provides a cost-efficient entry point for customers to build large-scale and complex web-services.  There really isn't a good reason to not move your storage, processing, and hosting to the cloud because most home-brewed solutions will not outdo AWS, for example.  The only time to genuinely hesistate to move involves security or privacy concerns, but these are generally still not sufficient to justify not using a cloud infrastructure solution.\n",
    "    \n",
    "Q3: What are the types of servers readily available on EC2?\n",
    "\n",
    "    T2: Burst-performance instances\n",
    "    M4 / M3: General purpose\n",
    "    C4 / C3: Compute optimized\n",
    "    R3: Mem optimized\n",
    "    G2: GPU optimized\n",
    "    I2: Storage optimized\n",
    "    D2: Dense-storage instances\n",
    "    \n",
    "    Each of these have various sizes, but are tailored to meet the requirement of specific usage scenarios.\n",
    "    \n",
    "    \n",
    "\n",
    "Q4: What are S3 and EBS?\n",
    "\n",
    "    These are storage solutions but each has a different context.  Elastic Block Store (EBS) allows users to mount the EBS volume to their EC2 instance, but these aren't reliable for long-term persistant storage.  S3 is a durable persistant backend store, and a likely usage scenario is:\n",
    "    \n",
    "    Store data in S3, load onto EBS, load EBS volume onto EC2\n",
    "    \n",
    "    If the EBS volume fails, the data is still reliably stored in S3."
   ]
  }
 ],
 "metadata": {
  "kernelspec": {
   "display_name": "Python 3",
   "language": "python",
   "name": "python3"
  },
  "language_info": {
   "codemirror_mode": {
    "name": "ipython",
    "version": 3
   },
   "file_extension": ".py",
   "mimetype": "text/x-python",
   "name": "python",
   "nbconvert_exporter": "python",
   "pygments_lexer": "ipython3",
   "version": "3.4.3"
  }
 },
 "nbformat": 4,
 "nbformat_minor": 0
}
